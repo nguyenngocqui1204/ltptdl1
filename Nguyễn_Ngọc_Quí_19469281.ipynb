{
  "nbformat": 4,
  "nbformat_minor": 0,
  "metadata": {
    "colab": {
      "name": "Nguyễn Ngọc Quí_19469281",
      "provenance": [],
      "collapsed_sections": [],
      "toc_visible": true,
      "include_colab_link": true
    },
    "kernelspec": {
      "display_name": "Python 3",
      "name": "python3"
    }
  },
  "cells": [
    {
      "cell_type": "markdown",
      "metadata": {
        "id": "view-in-github",
        "colab_type": "text"
      },
      "source": [
        "<a href=\"https://colab.research.google.com/github/nguyenngocqui1204/ltptdl1/blob/main/Nguy%E1%BB%85n_Ng%E1%BB%8Dc_Qu%C3%AD_19469281.ipynb\" target=\"_parent\"><img src=\"https://colab.research.google.com/assets/colab-badge.svg\" alt=\"Open In Colab\"/></a>"
      ]
    },
    {
      "cell_type": "code",
      "metadata": {
        "id": "61v8uDj9gc_L"
      },
      "source": [
        "import numpy as np # linear algebra\n",
        "import pandas as pd # data processing, CSV file I/O (e.g. pd.read_csv)\n",
        "import matplotlib.pyplot as plt\n",
        "import seaborn as sns\n",
        "import os\n",
        "print(os.listdir(\"../input\"))\n",
        "\n",
        "# Suppressing all warnings\n",
        "import warnings\n",
        "warnings.filterwarnings(\"ignore\")\n",
        "\n",
        "import matplotlib\n",
        "matplotlib.rc('figure', figsize = (20, 8))\n",
        "matplotlib.rc('font', size = 14)\n",
        "matplotlib.rc('axes.spines', top = False, right = False)\n",
        "matplotlib.rc('axes', grid = False)\n",
        "matplotlib.rc('axes', facecolor = 'white')"
      ],
      "execution_count": null,
      "outputs": []
    },
    {
      "cell_type": "code",
      "metadata": {
        "id": "KlBGxhbQgeUh"
      },
      "source": [
        "# Execute this in your kernel to view the first n (here-4) lines of the json file.\n",
        "! head -n 4 ../input/modcloth_final_data.json"
      ],
      "execution_count": null,
      "outputs": []
    },
    {
      "cell_type": "code",
      "metadata": {
        "id": "8QIIIfVvgi0W"
      },
      "source": [
        "mc_df = pd.read_json('../input/modcloth_final_data.json', lines=True)\n",
        "mc_df.head()"
      ],
      "execution_count": null,
      "outputs": []
    },
    {
      "cell_type": "code",
      "metadata": {
        "id": "1XNeFY9Zgkwe"
      },
      "source": [
        "mc_df.columns"
      ],
      "execution_count": null,
      "outputs": []
    },
    {
      "cell_type": "code",
      "metadata": {
        "id": "gredZHr9gm52"
      },
      "source": [
        "mc_df.columns = ['bra_size', 'bust', 'category', 'cup_size', 'fit', 'height', 'hips',\n",
        "       'item_id', 'length', 'quality', 'review_summary', 'review_text',\n",
        "       'shoe_size', 'shoe_width', 'size', 'user_id', 'user_name', 'waist']"
      ],
      "execution_count": null,
      "outputs": []
    },
    {
      "cell_type": "code",
      "metadata": {
        "id": "1cxaa__Kgpg2"
      },
      "source": [
        "mc_df.info()"
      ],
      "execution_count": null,
      "outputs": []
    },
    {
      "cell_type": "code",
      "metadata": {
        "id": "ZuYx8KuygrIl"
      },
      "source": [
        "missing_data = pd.DataFrame({'total_missing': mc_df.isnull().sum(), 'perc_missing': (mc_df.isnull().sum()/82790)*100})\n",
        "missing_data"
      ],
      "execution_count": null,
      "outputs": []
    },
    {
      "cell_type": "code",
      "metadata": {
        "id": "aXEIk3kQgtvS"
      },
      "source": [
        "mc_df.describe()"
      ],
      "execution_count": null,
      "outputs": []
    },
    {
      "cell_type": "code",
      "metadata": {
        "id": "6gB6u1uCgvzd"
      },
      "source": [
        "num_cols = ['bra_size','hips','quality','shoe_size','size','waist']\n",
        "plt.figure(figsize=(18,9))\n",
        "mc_df[num_cols].boxplot()\n",
        "plt.title(\"Numerical variables in Modcloth dataset\", fontsize=20)\n",
        "plt.show()"
      ],
      "execution_count": null,
      "outputs": []
    },
    {
      "cell_type": "code",
      "metadata": {
        "id": "2th6-MOeg0gl"
      },
      "source": [
        "mc_df[mc_df.shoe_size == 38]"
      ],
      "execution_count": null,
      "outputs": []
    },
    {
      "cell_type": "code",
      "metadata": {
        "id": "UEwWAta6g1Ws"
      },
      "source": [
        "mc_df.at[37313,'shoe_size'] = None"
      ],
      "execution_count": null,
      "outputs": []
    },
    {
      "cell_type": "code",
      "metadata": {
        "id": "fALpUkkLg3gU"
      },
      "source": [
        "mc_df.sort_values(by=['bra_size'], ascending=False).head(10)"
      ],
      "execution_count": null,
      "outputs": []
    },
    {
      "cell_type": "code",
      "metadata": {
        "id": "MsD7vBjUg5cl"
      },
      "source": [
        "plt.figure(figsize=(18,8))\n",
        "plt.xlabel(\"bra_size\", fontsize=18)\n",
        "plt.ylabel(\"size\", fontsize=18)\n",
        "plt.suptitle(\"Joint distribution of bra_size vs size\", fontsize= 20)\n",
        "plt.plot(mc_df.bra_size, mc_df['size'], 'bo', alpha=0.2)\n",
        "plt.show()"
      ],
      "execution_count": null,
      "outputs": []
    },
    {
      "cell_type": "code",
      "metadata": {
        "id": "Inx3U7Sbg7tP"
      },
      "source": [
        "def plot_dist(col, ax):\n",
        "    mc_df[col][mc_df[col].notnull()].value_counts().plot('bar', facecolor='y', ax=ax)\n",
        "    ax.set_xlabel('{}'.format(col), fontsize=20)\n",
        "    ax.set_title(\"{} on Modcloth\".format(col), fontsize= 18)\n",
        "    return ax\n",
        "\n",
        "f, ax = plt.subplots(3,3, figsize = (22,15))\n",
        "f.tight_layout(h_pad=9, w_pad=2, rect=[0, 0.03, 1, 0.93])\n",
        "cols = ['bra_size','bust', 'category', 'cup_size', 'fit', 'height', 'hips', 'length', 'quality']\n",
        "k = 0\n",
        "for i in range(3):\n",
        "    for j in range(3):\n",
        "        plot_dist(cols[k], ax[i][j])\n",
        "        k += 1\n",
        "__ = plt.suptitle(\"Initial Distributions of features\", fontsize= 25)"
      ],
      "execution_count": null,
      "outputs": []
    },
    {
      "cell_type": "code",
      "metadata": {
        "id": "UrEh_lo_hArv"
      },
      "source": [
        "mc_df.bra_size = mc_df.bra_size.fillna('Unknown')\n",
        "mc_df.bra_size = mc_df.bra_size.astype('category').cat.as_ordered()\n",
        "mc_df.at[37313,'bust'] = '38'\n",
        "mc_df.bust = mc_df.bust.fillna(0).astype(int)\n",
        "mc_df.category = mc_df.category.astype('category')"
      ],
      "execution_count": null,
      "outputs": []
    },
    {
      "cell_type": "code",
      "metadata": {
        "id": "HbGkMVAFhCaN"
      },
      "source": [
        "mc_df[mc_df.cup_size.isnull()].sample(20)"
      ],
      "execution_count": null,
      "outputs": []
    },
    {
      "cell_type": "code",
      "metadata": {
        "id": "3vGkAYyThD4W"
      },
      "source": [
        "mc_df.cup_size.fillna('Unknown', inplace=True)\n",
        "mc_df.cup_size = mc_df.cup_size.astype('category').cat.as_ordered()\n",
        "\n",
        "mc_df.fit = mc_df.fit.astype('category')"
      ],
      "execution_count": null,
      "outputs": []
    },
    {
      "cell_type": "code",
      "metadata": {
        "id": "I94nCWpphF01"
      },
      "source": [
        "def get_cms(x):\n",
        "    if type(x) == type(1.0):\n",
        "        return\n",
        "    #print(x)\n",
        "    try: \n",
        "        return (int(x[0])*30.48) + (int(x[4:-2])*2.54)\n",
        "    except:\n",
        "        return (int(x[0])*30.48)\n",
        "mc_df.height = mc_df.height.apply(get_cms)"
      ],
      "execution_count": null,
      "outputs": []
    },
    {
      "cell_type": "code",
      "metadata": {
        "id": "kG7bbcl-hH4U"
      },
      "source": [
        "mc_df[mc_df.height.isnull()].head(20)\n",
        "# Do look at the output to be able to better understand the inferences!"
      ],
      "execution_count": null,
      "outputs": []
    },
    {
      "cell_type": "code",
      "metadata": {
        "id": "q-oIKZLIhKvL"
      },
      "source": [
        "print(mc_df[((mc_df.bra_size != 'Unknown') | (mc_df.cup_size != 'Unknown')) & (mc_df.height.isnull()) & (mc_df.hips.isnull()) &\n",
        "     (mc_df.shoe_size.isnull()) & (mc_df.shoe_width.isnull()) & (mc_df.waist.isnull())].head(3))\n",
        "print(mc_df[(mc_df.bra_size == 'Unknown') & (mc_df.cup_size == 'Unknown') & (mc_df.height.isnull()) & (mc_df.hips.isnull()) &\n",
        "     ((mc_df.shoe_size.notnull()) | (mc_df.shoe_width.notnull())) & (mc_df.waist.isnull())].head(3))\n",
        "print(mc_df[(mc_df.bra_size == 'Unknown') & (mc_df.cup_size == 'Unknown') & (mc_df.height.isnull()) & ((mc_df.hips.notnull()) | (mc_df.waist.notnull())) &\n",
        "     (mc_df.shoe_size.isnull()) & (mc_df.shoe_width.isnull())].head(3))"
      ],
      "execution_count": null,
      "outputs": []
    },
    {
      "cell_type": "code",
      "metadata": {
        "id": "WrjpeHI5hOeE"
      },
      "source": [
        "lingerie_cond = (((mc_df.bra_size != 'Unknown') | (mc_df.cup_size != 'Unknown')) & (mc_df.height.isnull()) & (mc_df.hips.isnull()) &\n",
        "     (mc_df.shoe_size.isnull()) & (mc_df.shoe_width.isnull()) & (mc_df.waist.isnull()))\n",
        "shoe_cond = ((mc_df.bra_size == 'Unknown') & (mc_df.cup_size == 'Unknown') & (mc_df.height.isnull()) & (mc_df.hips.isnull()) &\n",
        "     ((mc_df.shoe_size.notnull()) | (mc_df.shoe_width.notnull())) & (mc_df.waist.isnull()))\n",
        "dress_cond = ((mc_df.bra_size == 'Unknown') & (mc_df.cup_size == 'Unknown') & (mc_df.height.isnull()) & ((mc_df.hips.notnull()) | (mc_df.waist.notnull())) &\n",
        "     (mc_df.shoe_size.isnull()) & (mc_df.shoe_width.isnull()))\n",
        "#print(len(mc_df[lingerie_cond]))   # To check if these items add up in the final column we are adding.\n",
        "#print(len(mc_df[shoe_cond]))\n",
        "#print(len(mc_df[dress_cond]))\n",
        "mc_df['first_time_user'] = (lingerie_cond | shoe_cond | dress_cond)\n",
        "print(\"Column added!\")\n",
        "print(\"Total transactions by first time users who bought bra, shoes, or a dress: \" + str(sum(mc_df.first_time_user)))\n",
        "print(\"Total first time users: \" + str(len(mc_df[(lingerie_cond | shoe_cond | dress_cond)].user_id.unique())))"
      ],
      "execution_count": null,
      "outputs": []
    },
    {
      "cell_type": "code",
      "metadata": {
        "id": "f9I6ygzRhQe6"
      },
      "source": [
        "# Handling hips column\n",
        "mc_df.hips = mc_df.hips.fillna(-1.0)\n",
        "bins = [-5,0,31,37,40,44,75]\n",
        "labels = ['Unknown','XS','S','M', 'L','XL']\n",
        "mc_df.hips = pd.cut(mc_df.hips, bins, labels=labels)\n",
        "\n",
        "# Handling length column\n",
        "missing_rows = mc_df[mc_df.length.isnull()].index\n",
        "mc_df.drop(missing_rows, axis = 0, inplace=True)\n",
        "\n",
        "# Handling quality\n",
        "missing_rows = mc_df[mc_df.quality.isnull()].index\n",
        "mc_df.drop(missing_rows, axis = 0, inplace=True)\n",
        "mc_df.quality = mc_df.quality.astype('category').cat.as_ordered()"
      ],
      "execution_count": null,
      "outputs": []
    },
    {
      "cell_type": "code",
      "metadata": {
        "id": "udYSMJTJhTJk"
      },
      "source": [
        "from pandas.api.types import CategoricalDtype\n",
        "shoe_widths_type = CategoricalDtype(categories=['Unknown','narrow','average','wide'], ordered=True)\n",
        "\n",
        "mc_df.review_summary = mc_df.review_summary.fillna('Unknown')\n",
        "mc_df.review_text = mc_df.review_text.fillna('Unkown')\n",
        "mc_df.shoe_size = mc_df.shoe_size.fillna('Unknown')\n",
        "mc_df.shoe_size = mc_df.shoe_size.astype('category').cat.as_ordered()\n",
        "mc_df.shoe_width = mc_df.shoe_width.fillna('Unknown')\n",
        "mc_df.shoe_width = mc_df.shoe_width.astype(shoe_widths_type)\n",
        "mc_df.drop(['waist', 'bust', 'user_name'], axis=1, inplace=True)\n",
        "missing_rows = mc_df[mc_df.height.isnull()].index\n",
        "mc_df.drop(missing_rows, axis = 0, inplace=True)"
      ],
      "execution_count": null,
      "outputs": []
    },
    {
      "cell_type": "code",
      "metadata": {
        "id": "FBylElGQhVsq"
      },
      "source": [
        "mc_df.info()"
      ],
      "execution_count": null,
      "outputs": []
    },
    {
      "cell_type": "code",
      "metadata": {
        "id": "xaJXRc78hXma"
      },
      "source": [
        "def plot_dist(col, ax):\n",
        "    if col != 'height':\n",
        "        mc_df[col].value_counts().plot('bar', facecolor='y', ax=ax)\n",
        "    else:\n",
        "        mc_df[col].plot('density', ax=ax, bw_method = 0.15, color='y')\n",
        "        ax.set_xlim(130,200)\n",
        "        ax.set_ylim(0, 0.07)\n",
        "    ax.set_xlabel('{}'.format(col), fontsize=18)\n",
        "    ax.set_title(\"{} on Modcloth\".format(col), fontsize= 18)\n",
        "    return ax\n",
        "\n",
        "f, ax = plt.subplots(2,4, figsize = (22,15))\n",
        "f.tight_layout(h_pad=9, w_pad=2, rect=[0, 0.03, 1, 0.93])\n",
        "cols = ['bra_size','category', 'cup_size', 'fit', 'height', 'hips', 'length', 'quality']\n",
        "k = 0\n",
        "for i in range(2):\n",
        "    for j in range(4):\n",
        "        plot_dist(cols[k], ax[i][j])\n",
        "        k += 1\n",
        "__ = plt.suptitle(\"Final Distributions of different features\", fontsize= 23)"
      ],
      "execution_count": null,
      "outputs": []
    },
    {
      "cell_type": "code",
      "metadata": {
        "id": "V9IYdlLyhaH7"
      },
      "source": [
        "def plot_barh(df,col, cmap = None, stacked=False, norm = None):\n",
        "    df.plot(kind='barh', colormap=cmap, stacked=stacked)\n",
        "    fig = plt.gcf()\n",
        "    fig.set_size_inches(24,12)\n",
        "    plt.title(\"Category vs {}-feedback -  Modcloth {}\".format(col, '(Normalized)' if norm else ''), fontsize= 20)\n",
        "    plt.ylabel('Category', fontsize = 18)\n",
        "    plot = plt.xlabel('Frequency', fontsize=18)\n",
        "    \n",
        "def norm_counts(t):\n",
        "    norms = np.linalg.norm(t.fillna(0), axis=1)\n",
        "    t_norm = t[0:0]\n",
        "    for row, euc in zip(t.iterrows(), norms):\n",
        "        t_norm.loc[row[0]] = list(map(lambda x: x/euc, list(row[1])))\n",
        "    return t_norm"
      ],
      "execution_count": null,
      "outputs": []
    },
    {
      "cell_type": "code",
      "metadata": {
        "id": "ST2yOs-bhcMf"
      },
      "source": [
        "mc_df.category.value_counts()"
      ],
      "execution_count": null,
      "outputs": []
    },
    {
      "cell_type": "code",
      "metadata": {
        "id": "f3t7Zx6Chd-M"
      },
      "source": [
        "g_by_category = mc_df.groupby('category')\n",
        "cat_fit = g_by_category['fit'].value_counts()\n",
        "cat_fit = cat_fit.unstack()\n",
        "cat_fit_norm = norm_counts(cat_fit)\n",
        "cat_fit_norm.drop(['fit'], axis=1, inplace=True)\n",
        "plot_barh(cat_fit, 'fit')"
      ],
      "execution_count": null,
      "outputs": []
    },
    {
      "cell_type": "code",
      "metadata": {
        "id": "WGTXXJXahful"
      },
      "source": [
        "plot_barh(cat_fit_norm, 'fit', norm=1, cmap='Set3')"
      ],
      "execution_count": null,
      "outputs": []
    },
    {
      "cell_type": "code",
      "metadata": {
        "id": "abmKwYvfhher"
      },
      "source": [
        "cat_len = g_by_category['length'].value_counts()\n",
        "cat_len = cat_len.unstack()\n",
        "plot_barh(cat_len, 'length', 'Set3')"
      ],
      "execution_count": null,
      "outputs": []
    },
    {
      "cell_type": "code",
      "metadata": {
        "id": "JlH-9JSrhjCk"
      },
      "source": [
        "cat_len_norm = norm_counts(cat_len)\n",
        "cat_len_norm.drop(['just right'], axis = 1, inplace=True)\n",
        "plot_barh(cat_len_norm, 'length', cmap='Set3', norm=1)"
      ],
      "execution_count": null,
      "outputs": []
    },
    {
      "cell_type": "code",
      "metadata": {
        "id": "MSg4v-2Xhk2j"
      },
      "source": [
        "cat_quality = g_by_category['quality'].value_counts()\n",
        "cat_quality = cat_quality.unstack()\n",
        "plot_barh(cat_quality, 'quality', 'Set3', stacked=1)"
      ],
      "execution_count": null,
      "outputs": []
    },
    {
      "cell_type": "code",
      "metadata": {
        "id": "eqK_gHdmhm2O"
      },
      "source": [
        "cat_quality_norm = norm_counts(cat_quality)\n",
        "cat_quality_norm.drop([5.0], axis = 1, inplace=True)\n",
        "plot_barh(cat_quality_norm, 'quality', 'Set3', stacked=1, norm=1)"
      ],
      "execution_count": null,
      "outputs": []
    },
    {
      "cell_type": "code",
      "metadata": {
        "id": "9aEEw8uohon8"
      },
      "source": [
        "# Users who bought so many items\n",
        "items_bought = []\n",
        "total_users = []\n",
        "for i in range(min(mc_df.user_id.value_counts()), max(mc_df.user_id.value_counts())+1):\n",
        "    all_users = sum(mc_df.user_id.value_counts() == i)\n",
        "    if all_users != 0:\n",
        "        total_users.append(all_users)\n",
        "        items_bought.append(i)\n",
        "plt.xlabel(\"Number of items bought\", fontsize = 18)\n",
        "plt.ylabel(\"Number of users\", fontsize = 18)\n",
        "plt.title(\"Distribution of items bought by users on Modcloth\")\n",
        "__ = sns.barplot(x=items_bought, y=total_users, color='y')\n",
        "fig = plt.gcf()\n",
        "fig.set_size_inches(20,10)"
      ],
      "execution_count": null,
      "outputs": []
    },
    {
      "cell_type": "code",
      "metadata": {
        "id": "tU2syOI9hq4N"
      },
      "source": [
        "fig = plt.gcf()\n",
        "fig.set_size_inches(20,10)\n",
        "__ = sns.violinplot(x='shoe_size', y='height',data=mc_df, size = 20)"
      ],
      "execution_count": null,
      "outputs": []
    }
  ]
}